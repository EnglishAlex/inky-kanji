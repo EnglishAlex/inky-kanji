{
 "cells": [
  {
   "cell_type": "markdown",
   "metadata": {},
   "source": [
    "## read imiwa json files and write out neatly formated file for inky display\n",
    "(c) Alex Oulton December 2021\n"
   ]
  },
  {
   "cell_type": "code",
   "execution_count": 19,
   "metadata": {},
   "outputs": [],
   "source": [
    "import json\n",
    "from pprint import pprint # User pprint to display JSON within a notebook.\n",
    "\n",
    "fileName = 'Favorites' \n",
    " \n",
    "# Opening JSON file, load JSON to dictionary \n",
    "f = open(fileName + '.imixch.json',) \n",
    "\n",
    "\n",
    "# returns JSON object as a dictionary \n",
    "data = json.load(f) \n",
    "f.close() \n",
    "# pretty print if needed\n",
    "# print(json.dumps(data, indent=1))"
   ]
  },
  {
   "cell_type": "code",
   "execution_count": 20,
   "metadata": {},
   "outputs": [],
   "source": [
    "# point myList to the list of words in this imiwa export file\n",
    "myList = data['lists'][0]['list']['items']\n",
    "# exported files only have one list hence we only talk to [lists][0]\n"
   ]
  },
  {
   "cell_type": "code",
   "execution_count": 21,
   "metadata": {},
   "outputs": [
    {
     "name": "stdout",
     "output_type": "stream",
     "text": [
      "skipped a line {'nanori': [], 'ctime': '2015-05-04 12:42:32 BST', 'meaning': {'eng': ['bitter orange']}, 'value': '橙', 'type': 2, 'ON': ['トウ'], 'atime': '2015-05-04 12:42:32 BST', 'kun': ['だいだい']}\n",
      "skipped a line {'value': '138160', 'ctime': '2015-05-12 12:06:02 BST', 'atime': '2015-05-12 12:06:02 BST', 'type': 4, 'example': {'jap': '太陽が水平線の下に沈んだ。', 'LAT': 'taiyou ga suiheisen no shita ni shizunda.', 'eng': 'The sun sank below the horizon.'}}\n",
      "Index error\n",
      "dict_values([['ふざけんな', 'ふざけんなよ', 'ふざけんじゃねーよ', 'ふざけんじゃねえぞ', 'ふざけんじゃないぞ'], '2015-06-29 23:30:43 BST', {'eng': ['stop bullshitting me', \"you're fucking kidding me\", \"you're full of shit\"]}, [], '2141690', 0, '2015-06-29 23:30:43 BST'])\n",
      "skipped a line {'nanori': [], 'ctime': '2015-10-06 00:04:35 BST', 'meaning': {'eng': ['axis', 'pivot', 'stem', 'stalk', 'counter for book scrolls']}, 'value': '軸', 'type': 2, 'ON': ['ジク'], 'atime': '2015-10-06 00:04:35 BST', 'kun': []}\n",
      "skipped a line {'nanori': [], 'ctime': '2015-12-23 23:46:56 GMT', 'meaning': {'eng': ['fee', 'materials']}, 'value': '料', 'type': 2, 'ON': ['リョウ'], 'atime': '2015-12-23 23:46:56 GMT', 'kun': []}\n",
      "skipped a line {'nanori': [], 'ctime': '2015-12-23 23:47:10 GMT', 'meaning': {'eng': ['department', 'course', 'section']}, 'value': '科', 'type': 2, 'ON': ['カ'], 'atime': '2015-12-23 23:47:10 GMT', 'kun': []}\n",
      "Index error\n",
      "dict_values([['うんざり', 'ウンザリ'], '2016-03-31 00:04:11 BST', {'eng': ['tedious', 'boring', 'being fed up with']}, [], '1001110', 0, '2016-03-31 00:04:11 BST'])\n",
      "skipped a line {'value': '1915250', 'ctime': '2016-05-16 11:46:59 BST', 'atime': '2016-05-16 11:46:59 BST', 'type': 0}\n",
      "skipped a line {'nanori': [], 'ctime': '2016-05-21 07:03:27 BST', 'meaning': {'eng': ['villa', 'inn', 'cottage', 'feudal manor', 'solemn', 'dignified']}, 'value': '荘', 'type': 2, 'ON': ['ソウ', 'ショウ', 'チャン'], 'atime': '2016-05-21 07:03:27 BST', 'kun': ['ほうき', 'おごそ.か']}\n",
      "Index error\n",
      "dict_values([['ネタバレ', 'ネタばれ', 'ねたばれ'], '2017-11-19 04:19:11 GMT', {'eng': ['spoiler', 'revealing important plot points of a story', 'spoiling a story']}, [], '2026170', 0, '2017-11-19 04:19:11 GMT'])\n",
      "Index error\n",
      "dict_values([['うっとり', 'ウットリ'], '2018-05-10 00:12:04 BST', {'eng': ['ecstatically', 'spellbound', 'with rapt attention', 'abstractedly', 'absentmindedly', 'absorbedly', 'vacantly']}, [], '1631640', 0, '2018-05-10 00:12:04 BST'])\n"
     ]
    }
   ],
   "source": [
    "# Iterating through the list\n",
    "# ignore the few items that don't have 'kanji' key - just 6 of 465 when I checked 'favorites'\n",
    "\n",
    "masterList =[]\n",
    "theDef = {}\n",
    "\n",
    "for i in myList:\n",
    "    try:\n",
    "        if 'kanji' in i:\n",
    "            kotoba = {}\n",
    "            kotoba['kanji'] = i['kanji'][0]\n",
    "            kotoba['kanaRead'] = i['reading'][0]\n",
    "            kotoba['engRead'] = i['meaning']['eng'][0]\n",
    "            masterList.append(kotoba)\n",
    "        else:\n",
    "            print (\"skipped a line\",i)\n",
    "    except KeyError:\n",
    "        print('Key error')\n",
    "        print(i.values())\n",
    "        continue\n",
    "    except IndexError:    \n",
    "        print('Index error')\n",
    "        print(i.values())\n",
    "        continue\n",
    "\n",
    "\n",
    "\n",
    "with open( fileName + '.json', 'w', encoding='utf-8') as outfile:  \n",
    "    json.dump(masterList, outfile, indent=4, ensure_ascii=False)\n",
    "\n",
    "outfile.close()\n"
   ]
  },
  {
   "cell_type": "code",
   "execution_count": null,
   "metadata": {},
   "outputs": [],
   "source": [
    "#### data file has a 'source' it has a list of lists which in turn has a 'name',\n",
    "# print(data['source'])\n",
    "print(data['lists'][0]['list']['name'])\n",
    "print(len(data['lists'][0]['list']['items']))"
   ]
  },
  {
   "cell_type": "code",
   "execution_count": null,
   "metadata": {},
   "outputs": [],
   "source": [
    "\n",
    "typeCount = []\n",
    "\n",
    "for i in myList:\n",
    "    typeCount.append(i['type'])"
   ]
  },
  {
   "cell_type": "code",
   "execution_count": null,
   "metadata": {},
   "outputs": [],
   "source": [
    "for i in myList:\n",
    "    if 'kanji' not in i :\n",
    "        print (i['value'])"
   ]
  },
  {
   "cell_type": "code",
   "execution_count": null,
   "metadata": {},
   "outputs": [],
   "source": [
    "len(myList)"
   ]
  },
  {
   "cell_type": "code",
   "execution_count": null,
   "metadata": {},
   "outputs": [],
   "source": [
    "for i in myList:\n",
    "    if 'kanji' in i:\n",
    "        print(i['type'],i['kanji'],i['meaning']['eng'])"
   ]
  },
  {
   "cell_type": "code",
   "execution_count": null,
   "metadata": {},
   "outputs": [],
   "source": [
    "number_of_elements = len(typeCount)\n",
    "number_of_unique_elements = len(set(typeCount))\n",
    "\n",
    "print(\"Number of elements in the list: \", number_of_elements)\n",
    "print(\"Number of unique elements in the list: \", number_of_unique_elements)"
   ]
  },
  {
   "cell_type": "code",
   "execution_count": null,
   "metadata": {},
   "outputs": [],
   "source": [
    "set(typeCount)"
   ]
  },
  {
   "cell_type": "code",
   "execution_count": null,
   "metadata": {},
   "outputs": [],
   "source": []
  }
 ],
 "metadata": {
  "kernelspec": {
   "display_name": "Python 3",
   "language": "python",
   "name": "python3"
  },
  "language_info": {
   "codemirror_mode": {
    "name": "ipython",
    "version": 3
   },
   "file_extension": ".py",
   "mimetype": "text/x-python",
   "name": "python",
   "nbconvert_exporter": "python",
   "pygments_lexer": "ipython3",
   "version": "3.8.5"
  }
 },
 "nbformat": 4,
 "nbformat_minor": 4
}
